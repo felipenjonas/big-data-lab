{
  "nbformat": 4,
  "nbformat_minor": 0,
  "metadata": {
    "colab": {
      "name": "tensorflow_ clothes_classifier.ipynb",
      "provenance": [],
      "authorship_tag": "ABX9TyN88nWz2+DY7h064/3+7ESz",
      "include_colab_link": true
    },
    "kernelspec": {
      "name": "python3",
      "display_name": "Python 3"
    },
    "language_info": {
      "name": "python"
    }
  },
  "cells": [
    {
      "cell_type": "markdown",
      "metadata": {
        "id": "view-in-github",
        "colab_type": "text"
      },
      "source": [
        "<a href=\"https://colab.research.google.com/github/felipenjonas/lab_bdag/blob/main/tensorflow__clothes_classifier.ipynb\" target=\"_parent\"><img src=\"https://colab.research.google.com/assets/colab-badge.svg\" alt=\"Open In Colab\"/></a>"
      ]
    },
    {
      "cell_type": "markdown",
      "metadata": {
        "id": "AsUP6dwmd7CX"
      },
      "source": [
        "## Classificador de roupas usando Tensorflow\n",
        "\n",
        "Fonte: https://www.tensorflow.org/tutorials/keras/classification?hl=pt-br\n"
      ]
    },
    {
      "cell_type": "code",
      "metadata": {
        "colab": {
          "base_uri": "https://localhost:8080/"
        },
        "id": "eSXkL1wvdRQy",
        "outputId": "3083761e-8526-4e97-d76b-99b815cd0de7"
      },
      "source": [
        "import tensorflow as tf\n",
        "from tensorflow import keras\n",
        "import numpy as np\n",
        "import matplotlib.pyplot as plt\n",
        "\n",
        "print(\"Tensorflow version: \",tf.__version__)"
      ],
      "execution_count": 2,
      "outputs": [
        {
          "output_type": "stream",
          "name": "stdout",
          "text": [
            "Tensorflow version:  2.6.0\n"
          ]
        }
      ]
    },
    {
      "cell_type": "markdown",
      "metadata": {
        "id": "xxZBKLXoenP_"
      },
      "source": [
        "### Importando o dataset \"Fashion MNIST\"\n",
        "\n",
        "Possui 70 mil imagens em topns de cinza em 10 categorias. São artigos individuais de roupas em 28/28 px.\n",
        "https://github.com/zalandoresearch/fashion-mnist"
      ]
    },
    {
      "cell_type": "code",
      "metadata": {
        "colab": {
          "base_uri": "https://localhost:8080/"
        },
        "id": "MG0KuFS5ejEk",
        "outputId": "aa818d43-21fd-446d-db13-a93a98143f11"
      },
      "source": [
        "fashion_mnist = keras.datasets.fashion_mnist\n",
        "\n",
        "(train_images, train_labels), (test_images, test_labels) = fashion_mnist.load_data()"
      ],
      "execution_count": 3,
      "outputs": [
        {
          "output_type": "stream",
          "name": "stdout",
          "text": [
            "Downloading data from https://storage.googleapis.com/tensorflow/tf-keras-datasets/train-labels-idx1-ubyte.gz\n",
            "32768/29515 [=================================] - 0s 0us/step\n",
            "40960/29515 [=========================================] - 0s 0us/step\n",
            "Downloading data from https://storage.googleapis.com/tensorflow/tf-keras-datasets/train-images-idx3-ubyte.gz\n",
            "26427392/26421880 [==============================] - 0s 0us/step\n",
            "26435584/26421880 [==============================] - 0s 0us/step\n",
            "Downloading data from https://storage.googleapis.com/tensorflow/tf-keras-datasets/t10k-labels-idx1-ubyte.gz\n",
            "16384/5148 [===============================================================================================] - 0s 0us/step\n",
            "Downloading data from https://storage.googleapis.com/tensorflow/tf-keras-datasets/t10k-images-idx3-ubyte.gz\n",
            "4423680/4422102 [==============================] - 0s 0us/step\n",
            "4431872/4422102 [==============================] - 0s 0us/step\n"
          ]
        }
      ]
    },
    {
      "cell_type": "markdown",
      "metadata": {
        "id": "jzDPUsf3fmSo"
      },
      "source": [
        "Carregando a base de dados que retorna quatro NumPy arrays:\n",
        "\n",
        "Os arrays train_images e train_labels são o conjunto de treinamento— os dados do modelo usados para aprender.\n",
        "O modelo é testado com o conjunto de teste, os arrays test_images e test_labels.\n",
        "As imagens são arrays NumPy de 28x28, com os valores de pixels entre 0 to 255. As labels (alvo da classificação) são um array de inteiros, no intervalo de 0 a 9. Esse corresponde com a classe de roupa que cada imagem representa:\n",
        "\n",
        "\n",
        "| Label|Classe|\n",
        "|------|------|\n",
        "|0 | Camisetas/Top (T-shirt/top)|\n",
        "|1\t|Calça (Trouser)|\n",
        "|2\t|Suéter (Pullover)|\n",
        "|3\t|Vestidos (Dress)|\n",
        "|4\t|Casaco (Coat)|\n",
        "|5\t|Sandálias (Sandal)|\n",
        "|6\t|Camisas (Shirt)|\n",
        "|7\t|Tênis (Sneaker)|\n",
        "|8\t|Bolsa (Bag)|\n",
        "|9\t|Botas (Ankle boot)|"
      ]
    },
    {
      "cell_type": "code",
      "metadata": {
        "id": "rG6yJZzFgXxl"
      },
      "source": [
        "class_names = ['T-shirt/top', 'Trouser', 'Pullover', 'Dress', 'Coat',\n",
        "               'Sandal', 'Shirt', 'Sneaker', 'Bag', 'Ankle boot']"
      ],
      "execution_count": 4,
      "outputs": []
    },
    {
      "cell_type": "code",
      "metadata": {
        "colab": {
          "base_uri": "https://localhost:8080/"
        },
        "id": "Al1IiIhtgmS8",
        "outputId": "6cf69946-9808-49a8-e5b7-90bb6cb9ce35"
      },
      "source": [
        "# Explorando os dados:\n",
        "train_images.shape\n",
        "#output: (quantidade de imagens, altura, largura) "
      ],
      "execution_count": 5,
      "outputs": [
        {
          "output_type": "execute_result",
          "data": {
            "text/plain": [
              "(60000, 28, 28)"
            ]
          },
          "metadata": {},
          "execution_count": 5
        }
      ]
    },
    {
      "cell_type": "code",
      "metadata": {
        "colab": {
          "base_uri": "https://localhost:8080/"
        },
        "id": "DpIHBmIKg7Ev",
        "outputId": "f1d6bd95-ea87-4e10-f7bf-1e2ef00a7f7f"
      },
      "source": [
        "# Quantidade de labels\n",
        "len(train_labels)"
      ],
      "execution_count": 7,
      "outputs": [
        {
          "output_type": "execute_result",
          "data": {
            "text/plain": [
              "60000"
            ]
          },
          "metadata": {},
          "execution_count": 7
        }
      ]
    },
    {
      "cell_type": "code",
      "metadata": {
        "colab": {
          "base_uri": "https://localhost:8080/"
        },
        "id": "f041tgvEhBOw",
        "outputId": "f5318a9c-0688-419b-a40e-6ebd38735beb"
      },
      "source": [
        "# Cada label é um inteiro entre 0 e 9:\n",
        "train_labels"
      ],
      "execution_count": 8,
      "outputs": [
        {
          "output_type": "execute_result",
          "data": {
            "text/plain": [
              "array([9, 0, 0, ..., 3, 0, 5], dtype=uint8)"
            ]
          },
          "metadata": {},
          "execution_count": 8
        }
      ]
    },
    {
      "cell_type": "markdown",
      "metadata": {
        "id": "xSODZdQGhTa8"
      },
      "source": [
        "## Pré processamento"
      ]
    },
    {
      "cell_type": "code",
      "metadata": {
        "colab": {
          "base_uri": "https://localhost:8080/",
          "height": 265
        },
        "id": "6fJlgQ-FhXCP",
        "outputId": "f94809bc-9a76-4543-d9c9-70b408ff669c"
      },
      "source": [
        "plt.figure()\n",
        "plt.imshow(train_images[10])\n",
        "plt.colorbar()\n",
        "plt.grid(False)\n",
        "plt.show()\n",
        "# Os valores do pixels estão entre 0 e 255."
      ],
      "execution_count": 13,
      "outputs": [
        {
          "output_type": "display_data",
          "data": {
            "image/png": "[encoded data removed]",
            "text/plain": [
              "<Figure size 432x288 with 2 Axes>"
            ]
          },
          "metadata": {
            "needs_background": "light"
          }
        }
      ]
    },
    {
      "cell_type": "markdown",
      "metadata": {
        "id": "-pCA7EpfiBA6"
      },
      "source": [
        "É necessário escalar os valores no intervalo de 0 e 1 antes de aliemntar o modelo de rede neural. Basta dividir por 255 tanto o conjunto treinamento quanto o conunto de teste."
      ]
    },
    {
      "cell_type": "code",
      "metadata": {
        "id": "1aWE0x76h2Z0"
      },
      "source": [
        "train_images = train_images / 255.0\n",
        "\n",
        "test_images = test_images / 255.0"
      ],
      "execution_count": 14,
      "outputs": []
    },
    {
      "cell_type": "code",
      "metadata": {
        "colab": {
          "base_uri": "https://localhost:8080/",
          "height": 251
        },
        "id": "lREh60JKh4Og",
        "outputId": "99b652f0-b7fd-47b3-b1e0-c4781714877e"
      },
      "source": [
        "# Verificando se as imagens estão corretas\n",
        "plt.figure(figsize=(10,10))\n",
        "for i in range(8):\n",
        "    plt.subplot(5,5,i+1)\n",
        "    plt.xticks([])\n",
        "    plt.yticks([])\n",
        "    plt.grid(False)\n",
        "    plt.imshow(train_images[i], cmap=plt.cm.binary)\n",
        "    plt.xlabel(class_names[train_labels[i]])\n",
        "plt.show()"
      ],
      "execution_count": 19,
      "outputs": [
        {
          "output_type": "display_data",
          "data": {
            "image/png": "[encoded data removed]",
            "text/plain": [
              "<Figure size 720x720 with 8 Axes>"
            ]
          },
          "metadata": {}
        }
      ]
    },
    {
      "cell_type": "markdown",
      "metadata": {
        "id": "Is8h-lIAiW7D"
      },
      "source": [
        "## Construindo o modelo"
      ]
    },
    {
      "cell_type": "code",
      "metadata": {
        "id": "su3s5l8iiZZS"
      },
      "source": [
        "# Monstando as camadas\n",
        "model = keras.Sequential([\n",
        "    # transforma o array de 2 dimensões (28x28pixels) para 1 dimensao (28*28)\n",
        "    keras.layers.Flatten(input_shape=(28, 28)),\n",
        "    # Definindo 128 nós (nerônios)\n",
        "    keras.layers.Dense(128, activation='relu'),\n",
        "    # softmax de 10 nós que retorna um array de 10 probabilidades, cuja soma resulta em 1. Cada nó contém um valor que indica a probabilidade de que aquela imagem pertence a uma das 10 classes.\n",
        "    keras.layers.Dense(10, activation='softmax')\n",
        "])"
      ],
      "execution_count": 23,
      "outputs": []
    },
    {
      "cell_type": "code",
      "metadata": {
        "id": "aATZWLy0i85m"
      },
      "source": [
        "# Compilar o modelo:\n",
        "model.compile(optimizer='adam',\n",
        "              loss='sparse_categorical_crossentropy',\n",
        "              metrics=['accuracy'])"
      ],
      "execution_count": 24,
      "outputs": []
    },
    {
      "cell_type": "markdown",
      "metadata": {
        "id": "OqAW73-7j3A-"
      },
      "source": [
        "## Treinando o modelo:\n",
        "O modelo vai aprender a associar as imagens e as labels.\n",
        "\n",
        "Usaremos o método model.fi()"
      ]
    },
    {
      "cell_type": "code",
      "metadata": {
        "colab": {
          "base_uri": "https://localhost:8080/"
        },
        "id": "VLLdm3IfkTqo",
        "outputId": "a139a214-f410-4458-a9e8-0370139962b2"
      },
      "source": [
        "model.fit(train_images, train_labels, epochs=10)"
      ],
      "execution_count": 25,
      "outputs": [
        {
          "output_type": "stream",
          "name": "stdout",
          "text": [
            "Epoch 1/10\n",
            "1875/1875 [==============================] - 4s 2ms/step - loss: 0.4962 - accuracy: 0.8248\n",
            "Epoch 2/10\n",
            "1875/1875 [==============================] - 4s 2ms/step - loss: 0.3742 - accuracy: 0.8644\n",
            "Epoch 3/10\n",
            "1875/1875 [==============================] - 4s 2ms/step - loss: 0.3356 - accuracy: 0.8778\n",
            "Epoch 4/10\n",
            "1875/1875 [==============================] - 4s 2ms/step - loss: 0.3131 - accuracy: 0.8846\n",
            "Epoch 5/10\n",
            "1875/1875 [==============================] - 4s 2ms/step - loss: 0.2937 - accuracy: 0.8922\n",
            "Epoch 6/10\n",
            "1875/1875 [==============================] - 4s 2ms/step - loss: 0.2818 - accuracy: 0.8957\n",
            "Epoch 7/10\n",
            "1875/1875 [==============================] - 4s 2ms/step - loss: 0.2692 - accuracy: 0.8991\n",
            "Epoch 8/10\n",
            "1875/1875 [==============================] - 4s 2ms/step - loss: 0.2568 - accuracy: 0.9042\n",
            "Epoch 9/10\n",
            "1875/1875 [==============================] - 4s 2ms/step - loss: 0.2466 - accuracy: 0.9088\n",
            "Epoch 10/10\n",
            "1875/1875 [==============================] - 4s 2ms/step - loss: 0.2378 - accuracy: 0.9110\n"
          ]
        },
        {
          "output_type": "execute_result",
          "data": {
            "text/plain": [
              "<keras.callbacks.History at 0x7fbb11ab2150>"
            ]
          },
          "metadata": {},
          "execution_count": 25
        }
      ]
    },
    {
      "cell_type": "markdown",
      "metadata": {
        "id": "JYMySMu6ki6c"
      },
      "source": [
        "## Avaliando Acurácia:\n",
        "Comparamos como o modelo performou com o conjunto teste.\n",
        "\n",
        "Vamos ter diferenças entre acurácia do conjunto teste e o conjunto treinamento."
      ]
    },
    {
      "cell_type": "code",
      "metadata": {
        "colab": {
          "base_uri": "https://localhost:8080/"
        },
        "id": "n3mCjz98ksoz",
        "outputId": "cd2d643c-9e7b-4250-98bf-cc104d15b9fb"
      },
      "source": [
        "test_loss, test_acc = model.evaluate(test_images,  test_labels, verbose=2)\n",
        "\n",
        "print('\\nTest accuracy:', test_acc)"
      ],
      "execution_count": 27,
      "outputs": [
        {
          "output_type": "stream",
          "name": "stdout",
          "text": [
            "313/313 - 0s - loss: 0.3346 - accuracy: 0.8851\n",
            "\n",
            "Test accuracy: 0.8851000070571899\n"
          ]
        }
      ]
    },
    {
      "cell_type": "markdown",
      "metadata": {
        "id": "1NxisIN6lYS8"
      },
      "source": [
        "## Fazendo Predições:"
      ]
    },
    {
      "cell_type": "code",
      "metadata": {
        "colab": {
          "base_uri": "https://localhost:8080/"
        },
        "id": "kSPXM3Unlbcs",
        "outputId": "d14677bc-85bd-4a46-f113-c3b5cb376386"
      },
      "source": [
        "predictions = model.predict(test_images)\n",
        "\n",
        "# Array de 10 números. Representam a confiança do modelo\n",
        "predictions[0]"
      ],
      "execution_count": 31,
      "outputs": [
        {
          "output_type": "execute_result",
          "data": {
            "text/plain": [
              "array([8.8509211e-07, 3.0457286e-08, 3.4692007e-08, 7.3147541e-09,\n",
              "       1.7299836e-08, 2.7926665e-04, 3.3015459e-07, 4.4464380e-03,\n",
              "       3.1746964e-07, 9.9527270e-01], dtype=float32)"
            ]
          },
          "metadata": {},
          "execution_count": 31
        }
      ]
    },
    {
      "cell_type": "code",
      "metadata": {
        "colab": {
          "base_uri": "https://localhost:8080/"
        },
        "id": "cdNxrDi5l28H",
        "outputId": "1544b24b-94a5-474c-a2f4-80d7c0b571f9"
      },
      "source": [
        "# Vemos que o modelo é confiante. E então mostraremos a label prevista.\n",
        "np.argmax(predictions[0])"
      ],
      "execution_count": 32,
      "outputs": [
        {
          "output_type": "execute_result",
          "data": {
            "text/plain": [
              "9"
            ]
          },
          "metadata": {},
          "execution_count": 32
        }
      ]
    },
    {
      "cell_type": "markdown",
      "metadata": {
        "id": "hiEJ9-O9mKwv"
      },
      "source": [
        "## Demonstrando gráficamente como se parece um conjunto total de previsão de 10 classes"
      ]
    },
    {
      "cell_type": "code",
      "metadata": {
        "colab": {
          "base_uri": "https://localhost:8080/",
          "height": 203
        },
        "id": "cwccPf8ZmVRV",
        "outputId": "a415aaa6-fa16-45a8-a6e9-53bef1a7c463"
      },
      "source": [
        "def plot_image(i, predictions_array, true_label, img):\n",
        "  predictions_array, true_label, img = predictions_array[i], true_label[i], img[i]\n",
        "  plt.grid(False)\n",
        "  plt.xticks([])\n",
        "  plt.yticks([])\n",
        "\n",
        "  plt.imshow(img, cmap=plt.cm.binary)\n",
        "\n",
        "  predicted_label = np.argmax(predictions_array)\n",
        "  if predicted_label == true_label:\n",
        "    color = 'blue'\n",
        "  else:\n",
        "    color = 'red'\n",
        "\n",
        "  plt.xlabel(\"{} {:2.0f}% ({})\".format(class_names[predicted_label],\n",
        "                                100*np.max(predictions_array),\n",
        "                                class_names[true_label]),\n",
        "                                color=color)\n",
        "\n",
        "def plot_value_array(i, predictions_array, true_label):\n",
        "  predictions_array, true_label = predictions_array[i], true_label[i]\n",
        "  plt.grid(False)\n",
        "  plt.xticks([])\n",
        "  plt.yticks([])\n",
        "  thisplot = plt.bar(range(10), predictions_array, color=\"#777777\")\n",
        "  plt.ylim([0, 1])\n",
        "  predicted_label = np.argmax(predictions_array)\n",
        "\n",
        "  thisplot[predicted_label].set_color('red')\n",
        "  thisplot[true_label].set_color('blue')\n",
        "\n",
        "# Testando em cada posição do array:\n",
        "i = 0\n",
        "plt.figure(figsize=(6,3))\n",
        "plt.subplot(1,2,1)\n",
        "plot_image(i, predictions, test_labels, test_images)\n",
        "plt.subplot(1,2,2)\n",
        "plot_value_array(i, predictions,  test_labels)\n",
        "plt.show()"
      ],
      "execution_count": 40,
      "outputs": [
        {
          "output_type": "display_data",
          "data": {
            "image/png": "[encoded data removed]",
            "text/plain": [
              "<Figure size 432x216 with 2 Axes>"
            ]
          },
          "metadata": {}
        }
      ]
    },
    {
      "cell_type": "markdown",
      "metadata": {
        "id": "G9RQB3J0mt2O"
      },
      "source": [
        "Mostrando mais previsões, podendo ser apresentadas tantas a previsões corretas e incorretas"
      ]
    },
    {
      "cell_type": "code",
      "metadata": {
        "colab": {
          "base_uri": "https://localhost:8080/",
          "height": 524
        },
        "id": "spM1LyoRnTaq",
        "outputId": "9e355546-54be-440b-947e-8263590e5b27"
      },
      "source": [
        "# Plota o primeiro X test images, e as labels preditas, e as labels verdadeiras.\n",
        "# Colore as predições corretas de azul e as incorretas de vermelho.\n",
        "num_rows = 5\n",
        "num_cols = 3\n",
        "num_images = num_rows*num_cols\n",
        "plt.figure(figsize=(2*2*num_cols, 2*num_rows))\n",
        "for i in range(num_images):\n",
        "  plt.subplot(num_rows, 2*num_cols, 2*i+1)\n",
        "  plot_image(i, predictions, test_labels, test_images)\n",
        "  plt.subplot(num_rows, 2*num_cols, 2*i+2)\n",
        "  plot_value_array(i, predictions, test_labels)\n",
        "plt.show()"
      ],
      "execution_count": 41,
      "outputs": [
        {
          "output_type": "display_data",
          "data": {
            "image/png": "[encoded data removed]",
            "text/plain": [
              "<Figure size 864x720 with 30 Axes>"
            ]
          },
          "metadata": {}
        }
      ]
    },
    {
      "cell_type": "markdown",
      "metadata": {
        "id": "DyketAt3nYV1"
      },
      "source": [
        "## Fazendo predição de uma única imagem:\n",
        "\n",
        "OBS:\n",
        "Modelos tf.keras são otimizados para fazer predições em um batch, ou coleções, de exemplos de uma vez. De acordo, mesmo que usemos uma única imagem, precisamos adicionar em uma lista:"
      ]
    },
    {
      "cell_type": "code",
      "metadata": {
        "colab": {
          "base_uri": "https://localhost:8080/"
        },
        "id": "phzhURYonbmH",
        "outputId": "d98b1f5d-8b76-4419-ff2f-359f906c6488"
      },
      "source": [
        "# Grab an image from the test dataset.\n",
        "img = test_images[0]\n",
        "\n",
        "print(img.shape)"
      ],
      "execution_count": 42,
      "outputs": [
        {
          "output_type": "stream",
          "name": "stdout",
          "text": [
            "(28, 28)\n"
          ]
        }
      ]
    },
    {
      "cell_type": "code",
      "metadata": {
        "colab": {
          "base_uri": "https://localhost:8080/"
        },
        "id": "CKGSOyDQnlNJ",
        "outputId": "646c1826-9c3b-4e98-d852-538c8a1aff8c"
      },
      "source": [
        "# Adiciona a imagem em um batch que possui um só membro.\n",
        "img = (np.expand_dims(img,0))\n",
        "\n",
        "print(img.shape)"
      ],
      "execution_count": 43,
      "outputs": [
        {
          "output_type": "stream",
          "name": "stdout",
          "text": [
            "(1, 28, 28)\n"
          ]
        }
      ]
    },
    {
      "cell_type": "code",
      "metadata": {
        "colab": {
          "base_uri": "https://localhost:8080/"
        },
        "id": "p_29dcj6noqf",
        "outputId": "d093db94-caca-45f8-f276-d277840f1986"
      },
      "source": [
        "# Predizer a label correta:\n",
        "predictions_single = model.predict(img)\n",
        "\n",
        "print(predictions_single)"
      ],
      "execution_count": 44,
      "outputs": [
        {
          "output_type": "stream",
          "name": "stdout",
          "text": [
            "[[8.8509552e-07 3.0457340e-08 3.4692139e-08 7.3147541e-09 1.7299870e-08\n",
            "  2.7926691e-04 3.3015522e-07 4.4464422e-03 3.1747055e-07 9.9527270e-01]]\n"
          ]
        }
      ]
    },
    {
      "cell_type": "code",
      "metadata": {
        "colab": {
          "base_uri": "https://localhost:8080/",
          "height": 300
        },
        "id": "4UU1WuCDnxpd",
        "outputId": "6766d2b1-7ddb-40ae-c11b-5c0c512ccfcf"
      },
      "source": [
        "plot_value_array(0, predictions_single, test_labels)\n",
        "_ = plt.xticks(range(10), class_names, rotation=45)"
      ],
      "execution_count": 45,
      "outputs": [
        {
          "output_type": "display_data",
          "data": {
            "image/png": "[encoded data removed]",
            "text/plain": [
              "<Figure size 432x288 with 1 Axes>"
            ]
          },
          "metadata": {
            "needs_background": "light"
          }
        }
      ]
    },
    {
      "cell_type": "code",
      "metadata": {
        "colab": {
          "base_uri": "https://localhost:8080/"
        },
        "id": "HSpJ1wqqn5ah",
        "outputId": "ff0b9a7e-0457-4b00-e56a-c368419894b6"
      },
      "source": [
        "# Mostrando a predição da label de uma única imagem:\n",
        "np.argmax(predictions_single[0])"
      ],
      "execution_count": 46,
      "outputs": [
        {
          "output_type": "execute_result",
          "data": {
            "text/plain": [
              "9"
            ]
          },
          "metadata": {},
          "execution_count": 46
        }
      ]
    }
  ]
}
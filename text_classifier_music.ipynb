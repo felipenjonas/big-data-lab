{
 "cells": [
  {
   "cell_type": "markdown",
   "id": "b18008f7",
   "metadata": {},
   "source": [
    "Criar um classificador de músicas, definindo quem é o cantor."
   ]
  },
  {
   "cell_type": "code",
   "execution_count": 164,
   "id": "257fa4e0",
   "metadata": {},
   "outputs": [],
   "source": [
    "import numpy as np\n",
    "import pandas as pd\n",
    "import matplotlib.pyplot as plt\n",
    "#classificador\n",
    "from sklearn.linear_model import SGDClassifier\n",
    "#selecao de daos de treino e teste\n",
    "from sklearn.model_selection import train_test_split\n",
    "#exibir metricas\n",
    "from sklearn.metrics import confusion_matrix\n",
    "from sklearn import metrics\n",
    "# vetorizador de texto\n",
    "from sklearn.feature_extraction.text import TfidfVectorizer"
   ]
  },
  {
   "cell_type": "code",
   "execution_count": 100,
   "id": "482b6a45",
   "metadata": {},
   "outputs": [
    {
     "data": {
      "text/html": [
       "<div>\n",
       "<style scoped>\n",
       "    .dataframe tbody tr th:only-of-type {\n",
       "        vertical-align: middle;\n",
       "    }\n",
       "\n",
       "    .dataframe tbody tr th {\n",
       "        vertical-align: top;\n",
       "    }\n",
       "\n",
       "    .dataframe thead th {\n",
       "        text-align: right;\n",
       "    }\n",
       "</style>\n",
       "<table border=\"1\" class=\"dataframe\">\n",
       "  <thead>\n",
       "    <tr style=\"text-align: right;\">\n",
       "      <th></th>\n",
       "      <th>cantorId</th>\n",
       "      <th>cantorNome</th>\n",
       "      <th>musicaNome</th>\n",
       "      <th>letra</th>\n",
       "    </tr>\n",
       "  </thead>\n",
       "  <tbody>\n",
       "    <tr>\n",
       "      <th>0</th>\n",
       "      <td>0</td>\n",
       "      <td>david-bowie</td>\n",
       "      <td>Heroes</td>\n",
       "      <td>I, I will be king. And you, you will be queen....</td>\n",
       "    </tr>\n",
       "    <tr>\n",
       "      <th>1</th>\n",
       "      <td>0</td>\n",
       "      <td>david-bowie</td>\n",
       "      <td>Starman</td>\n",
       "      <td>Didn't know what time it was,. The lights were...</td>\n",
       "    </tr>\n",
       "    <tr>\n",
       "      <th>2</th>\n",
       "      <td>0</td>\n",
       "      <td>david-bowie</td>\n",
       "      <td>Space Oddity</td>\n",
       "      <td>Ground control to Major Tom. Ground control to...</td>\n",
       "    </tr>\n",
       "    <tr>\n",
       "      <th>3</th>\n",
       "      <td>0</td>\n",
       "      <td>david-bowie</td>\n",
       "      <td>Life On Mars?</td>\n",
       "      <td>It's a god-awful small affair. To the girl wit...</td>\n",
       "    </tr>\n",
       "    <tr>\n",
       "      <th>4</th>\n",
       "      <td>0</td>\n",
       "      <td>david-bowie</td>\n",
       "      <td>Modern Love</td>\n",
       "      <td>I know when to go out. And when to stay in. Ge...</td>\n",
       "    </tr>\n",
       "  </tbody>\n",
       "</table>\n",
       "</div>"
      ],
      "text/plain": [
       "   cantorId   cantorNome     musicaNome  \\\n",
       "0         0  david-bowie         Heroes   \n",
       "1         0  david-bowie        Starman   \n",
       "2         0  david-bowie   Space Oddity   \n",
       "3         0  david-bowie  Life On Mars?   \n",
       "4         0  david-bowie    Modern Love   \n",
       "\n",
       "                                               letra  \n",
       "0  I, I will be king. And you, you will be queen....  \n",
       "1  Didn't know what time it was,. The lights were...  \n",
       "2  Ground control to Major Tom. Ground control to...  \n",
       "3  It's a god-awful small affair. To the girl wit...  \n",
       "4  I know when to go out. And when to stay in. Ge...  "
      ]
     },
     "execution_count": 100,
     "metadata": {},
     "output_type": "execute_result"
    }
   ],
   "source": [
    "dataset = pd.read_csv('C:\\\\Users\\\\Felipe\\\\OneDrive - Fatec Centro Paula Souza\\\\BIG DATA_NO_AGRONEGÓCIO\\\\6° Termo\\\\Lab de Big Data\\\\Documentos\\\\Bases de Dados\\\\musicas.csv')\n",
    "dataset.head()"
   ]
  },
  {
   "cell_type": "code",
   "execution_count": 101,
   "id": "bbe3a5bf",
   "metadata": {},
   "outputs": [
    {
     "data": {
      "text/html": [
       "<div>\n",
       "<style scoped>\n",
       "    .dataframe tbody tr th:only-of-type {\n",
       "        vertical-align: middle;\n",
       "    }\n",
       "\n",
       "    .dataframe tbody tr th {\n",
       "        vertical-align: top;\n",
       "    }\n",
       "\n",
       "    .dataframe thead th {\n",
       "        text-align: right;\n",
       "    }\n",
       "</style>\n",
       "<table border=\"1\" class=\"dataframe\">\n",
       "  <thead>\n",
       "    <tr style=\"text-align: right;\">\n",
       "      <th></th>\n",
       "      <th>cantorId</th>\n",
       "    </tr>\n",
       "  </thead>\n",
       "  <tbody>\n",
       "    <tr>\n",
       "      <th>count</th>\n",
       "      <td>1748.000000</td>\n",
       "    </tr>\n",
       "    <tr>\n",
       "      <th>mean</th>\n",
       "      <td>1.518307</td>\n",
       "    </tr>\n",
       "    <tr>\n",
       "      <th>std</th>\n",
       "      <td>1.313140</td>\n",
       "    </tr>\n",
       "    <tr>\n",
       "      <th>min</th>\n",
       "      <td>0.000000</td>\n",
       "    </tr>\n",
       "    <tr>\n",
       "      <th>25%</th>\n",
       "      <td>0.000000</td>\n",
       "    </tr>\n",
       "    <tr>\n",
       "      <th>50%</th>\n",
       "      <td>1.000000</td>\n",
       "    </tr>\n",
       "    <tr>\n",
       "      <th>75%</th>\n",
       "      <td>2.000000</td>\n",
       "    </tr>\n",
       "    <tr>\n",
       "      <th>max</th>\n",
       "      <td>4.000000</td>\n",
       "    </tr>\n",
       "  </tbody>\n",
       "</table>\n",
       "</div>"
      ],
      "text/plain": [
       "          cantorId\n",
       "count  1748.000000\n",
       "mean      1.518307\n",
       "std       1.313140\n",
       "min       0.000000\n",
       "25%       0.000000\n",
       "50%       1.000000\n",
       "75%       2.000000\n",
       "max       4.000000"
      ]
     },
     "execution_count": 101,
     "metadata": {},
     "output_type": "execute_result"
    }
   ],
   "source": [
    "dataset.describe()"
   ]
  },
  {
   "cell_type": "code",
   "execution_count": 102,
   "id": "8339181c",
   "metadata": {},
   "outputs": [
    {
     "data": {
      "text/html": [
       "<div>\n",
       "<style scoped>\n",
       "    .dataframe tbody tr th:only-of-type {\n",
       "        vertical-align: middle;\n",
       "    }\n",
       "\n",
       "    .dataframe tbody tr th {\n",
       "        vertical-align: top;\n",
       "    }\n",
       "\n",
       "    .dataframe thead th {\n",
       "        text-align: right;\n",
       "    }\n",
       "</style>\n",
       "<table border=\"1\" class=\"dataframe\">\n",
       "  <thead>\n",
       "    <tr style=\"text-align: right;\">\n",
       "      <th></th>\n",
       "      <th>cantorId</th>\n",
       "      <th>cantorNome</th>\n",
       "      <th>musicaNome</th>\n",
       "      <th>letra</th>\n",
       "    </tr>\n",
       "  </thead>\n",
       "  <tbody>\n",
       "    <tr>\n",
       "      <th>1743</th>\n",
       "      <td>4</td>\n",
       "      <td>ac-dc</td>\n",
       "      <td>Who Made Who</td>\n",
       "      <td>The video game says Play me. Face it on a leve...</td>\n",
       "    </tr>\n",
       "    <tr>\n",
       "      <th>1744</th>\n",
       "      <td>4</td>\n",
       "      <td>ac-dc</td>\n",
       "      <td>Whole Lotta Rosie</td>\n",
       "      <td>Wanna tell you a story. 'Bout a woman I know. ...</td>\n",
       "    </tr>\n",
       "    <tr>\n",
       "      <th>1745</th>\n",
       "      <td>4</td>\n",
       "      <td>ac-dc</td>\n",
       "      <td>You Ain't Got A Hold On Me</td>\n",
       "      <td>You can roll me round your finger. You can rol...</td>\n",
       "    </tr>\n",
       "    <tr>\n",
       "      <th>1746</th>\n",
       "      <td>4</td>\n",
       "      <td>ac-dc</td>\n",
       "      <td>You Shook Me All Night Long</td>\n",
       "      <td>She was a fast machine. She kept the motor cle...</td>\n",
       "    </tr>\n",
       "    <tr>\n",
       "      <th>1747</th>\n",
       "      <td>4</td>\n",
       "      <td>ac-dc</td>\n",
       "      <td>You Shook Me All Night Long (Remix)</td>\n",
       "      <td>Give me a big beat. Now here this, now here th...</td>\n",
       "    </tr>\n",
       "  </tbody>\n",
       "</table>\n",
       "</div>"
      ],
      "text/plain": [
       "      cantorId cantorNome                           musicaNome  \\\n",
       "1743         4      ac-dc                         Who Made Who   \n",
       "1744         4      ac-dc                    Whole Lotta Rosie   \n",
       "1745         4      ac-dc           You Ain't Got A Hold On Me   \n",
       "1746         4      ac-dc          You Shook Me All Night Long   \n",
       "1747         4      ac-dc  You Shook Me All Night Long (Remix)   \n",
       "\n",
       "                                                  letra  \n",
       "1743  The video game says Play me. Face it on a leve...  \n",
       "1744  Wanna tell you a story. 'Bout a woman I know. ...  \n",
       "1745  You can roll me round your finger. You can rol...  \n",
       "1746  She was a fast machine. She kept the motor cle...  \n",
       "1747  Give me a big beat. Now here this, now here th...  "
      ]
     },
     "execution_count": 102,
     "metadata": {},
     "output_type": "execute_result"
    }
   ],
   "source": [
    "# verificando as últimas n linhas\n",
    "dataset.tail()"
   ]
  },
  {
   "cell_type": "code",
   "execution_count": 103,
   "id": "93b47080",
   "metadata": {},
   "outputs": [
    {
     "data": {
      "text/html": [
       "<div>\n",
       "<style scoped>\n",
       "    .dataframe tbody tr th:only-of-type {\n",
       "        vertical-align: middle;\n",
       "    }\n",
       "\n",
       "    .dataframe tbody tr th {\n",
       "        vertical-align: top;\n",
       "    }\n",
       "\n",
       "    .dataframe thead th {\n",
       "        text-align: right;\n",
       "    }\n",
       "</style>\n",
       "<table border=\"1\" class=\"dataframe\">\n",
       "  <thead>\n",
       "    <tr style=\"text-align: right;\">\n",
       "      <th></th>\n",
       "      <th>cantorId</th>\n",
       "      <th>cantorNome</th>\n",
       "      <th>musicaNome</th>\n",
       "      <th>letra</th>\n",
       "    </tr>\n",
       "  </thead>\n",
       "  <tbody>\n",
       "    <tr>\n",
       "      <th>183</th>\n",
       "      <td>0</td>\n",
       "      <td>david-bowie</td>\n",
       "      <td>I Got You Babe (feat. Marianne Faithful)</td>\n",
       "      <td>They say we're young and we don't know. We won...</td>\n",
       "    </tr>\n",
       "  </tbody>\n",
       "</table>\n",
       "</div>"
      ],
      "text/plain": [
       "     cantorId   cantorNome                                musicaNome  \\\n",
       "183         0  david-bowie  I Got You Babe (feat. Marianne Faithful)   \n",
       "\n",
       "                                                 letra  \n",
       "183  They say we're young and we don't know. We won...  "
      ]
     },
     "execution_count": 103,
     "metadata": {},
     "output_type": "execute_result"
    }
   ],
   "source": [
    "#mostrar parte aleatória da base de dados:\n",
    "dataset.sample()"
   ]
  },
  {
   "cell_type": "markdown",
   "id": "d5b85deb",
   "metadata": {},
   "source": [
    "## Criando variáveis do projeto"
   ]
  },
  {
   "cell_type": "code",
   "execution_count": 104,
   "id": "387ccd2c",
   "metadata": {},
   "outputs": [
    {
     "name": "stdout",
     "output_type": "stream",
     "text": [
      "0       I, I will be king. And you, you will be queen....\n",
      "1       Didn't know what time it was,. The lights were...\n",
      "2       Ground control to Major Tom. Ground control to...\n",
      "3       It's a god-awful small affair. To the girl wit...\n",
      "4       I know when to go out. And when to stay in. Ge...\n",
      "                              ...                        \n",
      "1743    The video game says Play me. Face it on a leve...\n",
      "1744    Wanna tell you a story. 'Bout a woman I know. ...\n",
      "1745    You can roll me round your finger. You can rol...\n",
      "1746    She was a fast machine. She kept the motor cle...\n",
      "1747    Give me a big beat. Now here this, now here th...\n",
      "Name: letra, Length: 1748, dtype: object\n",
      "0       0\n",
      "1       0\n",
      "2       0\n",
      "3       0\n",
      "4       0\n",
      "       ..\n",
      "1743    4\n",
      "1744    4\n",
      "1745    4\n",
      "1746    4\n",
      "1747    4\n",
      "Name: cantorId, Length: 1748, dtype: int64\n",
      "['david-bowie' 'paul-mccartney' 'laura-pausini' 'evanescence' 'ac-dc']\n"
     ]
    }
   ],
   "source": [
    "X = dataset['letra']\n",
    "Y = dataset['cantorId']\n",
    "nomes = dataset['cantorNome'].unique()\n",
    "\n",
    "print(X)\n",
    "print(Y)\n",
    "print(nomes)\n",
    "#convertendo todas as palavras para letras minusculas\n",
    "palavras = X.str.lower().str.split()"
   ]
  },
  {
   "cell_type": "markdown",
   "id": "0e431d63",
   "metadata": {},
   "source": [
    "## Criando um dicinário com as palavras, afim de definir suas posições"
   ]
  },
  {
   "cell_type": "code",
   "execution_count": 105,
   "id": "3d7d6c8a",
   "metadata": {},
   "outputs": [
    {
     "name": "stdout",
     "output_type": "stream",
     "text": [
      "30685 palavras\n",
      "(\"shoutin',\", 0)\n",
      "('dial.', 1)\n",
      "('somewhere,', 2)\n",
      "('climbs', 3)\n",
      "('illusions', 4)\n",
      "('will,', 5)\n",
      "('svegliarti', 6)\n",
      "('aiutare', 7)\n",
      "('wallop', 8)\n",
      "('ayer.', 9)\n"
     ]
    }
   ],
   "source": [
    "# criando um dicionário com todas as palavras da variável X (letras)\n",
    "dicionario = set()\n",
    "for i in palavras:\n",
    "    dicionario.update(i)\n",
    "    \n",
    "minhasPalavras = dict(zip(dicionario, range(len(dicionario))))\n",
    "\n",
    "print(len(minhasPalavras), 'palavras')\n",
    "\n",
    "for i in range(0,10):\n",
    "    print(list(minhasPalavras.items())[i])"
   ]
  },
  {
   "cell_type": "markdown",
   "id": "8c384131",
   "metadata": {},
   "source": [
    "## Separando daods de treino e teste"
   ]
  },
  {
   "cell_type": "code",
   "execution_count": 106,
   "id": "9bcbcf39",
   "metadata": {},
   "outputs": [],
   "source": [
    "# separando 30% para teste\n",
    "Xtreino, Xteste, Ytreino, Yteste = train_test_split(X,Y, test_size=0.3, random_state=42, shuffle=True)"
   ]
  },
  {
   "cell_type": "markdown",
   "id": "4edb331c",
   "metadata": {},
   "source": [
    "## Vetorizando letras para numeros"
   ]
  },
  {
   "cell_type": "code",
   "execution_count": 107,
   "id": "aac5fe0d",
   "metadata": {},
   "outputs": [],
   "source": [
    "txtvetorizador = TfidfVectorizer()\n",
    "\n",
    "vetorXtreino = txtvetorizador.fit_transform(Xtreino)"
   ]
  },
  {
   "cell_type": "markdown",
   "id": "d0121705",
   "metadata": {},
   "source": [
    "## Treinando e vetorizando os dados do teste"
   ]
  },
  {
   "cell_type": "code",
   "execution_count": 108,
   "id": "7e35279b",
   "metadata": {},
   "outputs": [],
   "source": [
    "# treinando\n",
    "# penalty é 'L2' = l2 não é 12\n",
    "modelo = SGDClassifier(loss='hinge', penalty='l2',alpha=1e-3, random_state=42, max_iter=5, tol=None)\n",
    "\n",
    "modelo.fit(vetorXtreino, Ytreino)\n",
    "\n",
    "#Vetorizando os dados de teste\n",
    "vetorXteste = txtvetorizador.transform(Xteste)"
   ]
  },
  {
   "cell_type": "markdown",
   "id": "4405f00b",
   "metadata": {},
   "source": [
    "## Previsões e métricas"
   ]
  },
  {
   "cell_type": "code",
   "execution_count": 109,
   "id": "e9f97c79",
   "metadata": {},
   "outputs": [],
   "source": [
    "previsao = modelo.predict(vetorXteste)"
   ]
  },
  {
   "cell_type": "code",
   "execution_count": 110,
   "id": "296f38d5",
   "metadata": {},
   "outputs": [
    {
     "name": "stdout",
     "output_type": "stream",
     "text": [
      "                precision    recall  f1-score   support\n",
      "\n",
      "   david-bowie       0.66      0.71      0.68       140\n",
      "paul-mccartney       0.68      0.73      0.70       146\n",
      " laura-pausini       0.92      0.91      0.92       125\n",
      "   evanescence       0.92      0.52      0.67        44\n",
      "         ac-dc       0.83      0.81      0.82        70\n",
      "\n",
      "      accuracy                           0.76       525\n",
      "     macro avg       0.80      0.74      0.76       525\n",
      "  weighted avg       0.77      0.76      0.76       525\n",
      "\n"
     ]
    }
   ],
   "source": [
    "print(metrics.classification_report(Yteste.values, previsao, target_names= nomes))"
   ]
  },
  {
   "cell_type": "code",
   "execution_count": 111,
   "id": "da1e4906",
   "metadata": {},
   "outputs": [
    {
     "name": "stdout",
     "output_type": "stream",
     "text": [
      "['david-bowie' 'paul-mccartney' 'laura-pausini' 'evanescence' 'ac-dc'] [0 1 2 3 4]\n"
     ]
    }
   ],
   "source": [
    "print(nomes, modelo.classes_)"
   ]
  },
  {
   "cell_type": "code",
   "execution_count": 112,
   "id": "a69089ca",
   "metadata": {},
   "outputs": [
    {
     "name": "stdout",
     "output_type": "stream",
     "text": [
      "[[100  33   0   1   6]\n",
      " [ 32 106   2   1   5]\n",
      " [  5   6 114   0   0]\n",
      " [  8   4   8  23   1]\n",
      " [  7   6   0   0  57]]\n"
     ]
    }
   ],
   "source": [
    "# metricas\n",
    "confusion_matrix = confusion_matrix(Yteste.values, previsao)\n",
    "print(confusion_matrix)"
   ]
  },
  {
   "cell_type": "code",
   "execution_count": 114,
   "id": "cc0fb007",
   "metadata": {},
   "outputs": [
    {
     "data": {
      "text/plain": [
       "Text(0.5, 0, 'Classificações')"
      ]
     },
     "execution_count": 114,
     "metadata": {},
     "output_type": "execute_result"
    },
    {
     "data": {
      "image/png": "[encoded data removed]",
      "text/plain": [
       "<Figure size 288x288 with 2 Axes>"
      ]
     },
     "metadata": {
      "needs_background": "light"
     },
     "output_type": "display_data"
    }
   ],
   "source": [
    "plt.matshow(confusion_matrix, cmap='RdBu_r')\n",
    "plt.title('Matriz de confusão')\n",
    "plt.colorbar()\n",
    "plt.ylabel('Classificações correlatas')\n",
    "plt.xlabel('Classificações')"
   ]
  },
  {
   "cell_type": "code",
   "execution_count": 116,
   "id": "3bcf3e6c",
   "metadata": {},
   "outputs": [
    {
     "name": "stdout",
     "output_type": "stream",
     "text": [
      "['david-bowie' 'paul-mccartney' 'laura-pausini' 'evanescence' 'ac-dc']\n"
     ]
    },
    {
     "data": {
      "text/html": [
       "<div>\n",
       "<style scoped>\n",
       "    .dataframe tbody tr th:only-of-type {\n",
       "        vertical-align: middle;\n",
       "    }\n",
       "\n",
       "    .dataframe tbody tr th {\n",
       "        vertical-align: top;\n",
       "    }\n",
       "\n",
       "    .dataframe thead th {\n",
       "        text-align: right;\n",
       "    }\n",
       "</style>\n",
       "<table border=\"1\" class=\"dataframe\">\n",
       "  <thead>\n",
       "    <tr style=\"text-align: right;\">\n",
       "      <th>previsto</th>\n",
       "      <th>0</th>\n",
       "      <th>1</th>\n",
       "      <th>2</th>\n",
       "      <th>3</th>\n",
       "      <th>4</th>\n",
       "      <th>All</th>\n",
       "    </tr>\n",
       "    <tr>\n",
       "      <th>Real</th>\n",
       "      <th></th>\n",
       "      <th></th>\n",
       "      <th></th>\n",
       "      <th></th>\n",
       "      <th></th>\n",
       "      <th></th>\n",
       "    </tr>\n",
       "  </thead>\n",
       "  <tbody>\n",
       "    <tr>\n",
       "      <th>0</th>\n",
       "      <td>100</td>\n",
       "      <td>33</td>\n",
       "      <td>0</td>\n",
       "      <td>1</td>\n",
       "      <td>6</td>\n",
       "      <td>140</td>\n",
       "    </tr>\n",
       "    <tr>\n",
       "      <th>1</th>\n",
       "      <td>32</td>\n",
       "      <td>106</td>\n",
       "      <td>2</td>\n",
       "      <td>1</td>\n",
       "      <td>5</td>\n",
       "      <td>146</td>\n",
       "    </tr>\n",
       "    <tr>\n",
       "      <th>2</th>\n",
       "      <td>5</td>\n",
       "      <td>6</td>\n",
       "      <td>114</td>\n",
       "      <td>0</td>\n",
       "      <td>0</td>\n",
       "      <td>125</td>\n",
       "    </tr>\n",
       "    <tr>\n",
       "      <th>3</th>\n",
       "      <td>8</td>\n",
       "      <td>4</td>\n",
       "      <td>8</td>\n",
       "      <td>23</td>\n",
       "      <td>1</td>\n",
       "      <td>44</td>\n",
       "    </tr>\n",
       "    <tr>\n",
       "      <th>4</th>\n",
       "      <td>7</td>\n",
       "      <td>6</td>\n",
       "      <td>0</td>\n",
       "      <td>0</td>\n",
       "      <td>57</td>\n",
       "      <td>70</td>\n",
       "    </tr>\n",
       "    <tr>\n",
       "      <th>All</th>\n",
       "      <td>152</td>\n",
       "      <td>155</td>\n",
       "      <td>124</td>\n",
       "      <td>25</td>\n",
       "      <td>69</td>\n",
       "      <td>525</td>\n",
       "    </tr>\n",
       "  </tbody>\n",
       "</table>\n",
       "</div>"
      ],
      "text/plain": [
       "previsto    0    1    2   3   4  All\n",
       "Real                                \n",
       "0         100   33    0   1   6  140\n",
       "1          32  106    2   1   5  146\n",
       "2           5    6  114   0   0  125\n",
       "3           8    4    8  23   1   44\n",
       "4           7    6    0   0  57   70\n",
       "All       152  155  124  25  69  525"
      ]
     },
     "execution_count": 116,
     "metadata": {},
     "output_type": "execute_result"
    }
   ],
   "source": [
    "print(nomes)\n",
    "pd.crosstab(Yteste.values, previsao, rownames=['Real'], colnames=['previsto'], margins=True)"
   ]
  },
  {
   "cell_type": "markdown",
   "id": "8d2e6eaa",
   "metadata": {},
   "source": [
    "## Testando o modelo com novas músicas\n"
   ]
  },
  {
   "cell_type": "code",
   "execution_count": 118,
   "id": "e9c52637",
   "metadata": {},
   "outputs": [],
   "source": [
    "novosTrechos = [\n",
    "    \"we used to say we live and let live\",\n",
    "    \"Proyecto de vida en comúnlLo sé todo el abismo que ves\",\n",
    "    \"Inch worm, inch worm. Measuring the marigolds\"\n",
    "]"
   ]
  },
  {
   "cell_type": "code",
   "execution_count": 122,
   "id": "83580583",
   "metadata": {},
   "outputs": [
    {
     "name": "stdout",
     "output_type": "stream",
     "text": [
      "Previsões\n",
      "Trecho: we used to say we live and let live\n",
      "Artista previsto: paul-mccartney\n",
      "Trecho: Proyecto de vida en comúnlLo sé todo el abismo que ves\n",
      "Artista previsto: laura-pausini\n",
      "Trecho: Inch worm, inch worm. Measuring the marigolds\n",
      "Artista previsto: paul-mccartney\n"
     ]
    }
   ],
   "source": [
    "#Vetorizando\n",
    "novoVetor = txtvetorizador.transform(novosTrechos)\n",
    "previsao = modelo.predict(novoVetor)\n",
    "print('Previsões')\n",
    "for trecho, artista in zip(novosTrechos, previsao):\n",
    "    print(f'Trecho: {trecho}')\n",
    "    print(f'Artista previsto: {nomes[artista]}')"
   ]
  },
  {
   "cell_type": "markdown",
   "id": "b2c940b2",
   "metadata": {},
   "source": [
    "# Desafio\n",
    "Utilizar outro classificador, como o MPLClassifier. Este classificador é baseado em redes neurais. Pesquise sobre a biblioteca Sklearn.neural_network e como utilziar o MPLClassifier. Refaça a mesma aplicação com este novo classificador e avalie os resultados obtidos."
   ]
  },
  {
   "cell_type": "code",
   "execution_count": 125,
   "id": "1291eee0",
   "metadata": {},
   "outputs": [],
   "source": [
    "from sklearn.neural_network import MLPClassifier\n",
    "from sklearn.datasets import make_classification"
   ]
  },
  {
   "cell_type": "code",
   "execution_count": 127,
   "id": "d6a40272",
   "metadata": {},
   "outputs": [],
   "source": [
    "X, Y = make_classification(n_samples=100, random_state=1)"
   ]
  },
  {
   "cell_type": "code",
   "execution_count": 142,
   "id": "64eb8a87",
   "metadata": {},
   "outputs": [
    {
     "data": {
      "text/plain": [
       "MLPClassifier(max_iter=300, random_state=1)"
      ]
     },
     "execution_count": 142,
     "metadata": {},
     "output_type": "execute_result"
    }
   ],
   "source": [
    "model = MLPClassifier(random_state=1, max_iter=300)\n",
    "# clf.predict(X_test)\n",
    "model.fit(vetorXtreino, Ytreino)"
   ]
  },
  {
   "cell_type": "code",
   "execution_count": 143,
   "id": "f99a8988",
   "metadata": {},
   "outputs": [],
   "source": [
    "previsao = model.predict(vetorXteste)"
   ]
  },
  {
   "cell_type": "code",
   "execution_count": 147,
   "id": "64bded53",
   "metadata": {},
   "outputs": [
    {
     "name": "stdout",
     "output_type": "stream",
     "text": [
      "                precision    recall  f1-score   support\n",
      "\n",
      "   david-bowie       0.68      0.66      0.67       140\n",
      "paul-mccartney       0.66      0.77      0.71       146\n",
      " laura-pausini       0.93      0.92      0.92       125\n",
      "   evanescence       0.93      0.61      0.74        44\n",
      "         ac-dc       0.86      0.81      0.84        70\n",
      "\n",
      "      accuracy                           0.77       525\n",
      "     macro avg       0.81      0.76      0.78       525\n",
      "  weighted avg       0.78      0.77      0.77       525\n",
      "\n"
     ]
    }
   ],
   "source": [
    "print(metrics.classification_report(Yteste.values, previsao, target_names= nomes))"
   ]
  },
  {
   "cell_type": "markdown",
   "id": "b2ae64e8",
   "metadata": {},
   "source": [
    "# metricas"
   ]
  },
  {
   "cell_type": "code",
   "execution_count": 151,
   "id": "2e51ec73",
   "metadata": {},
   "outputs": [
    {
     "data": {
      "text/plain": [
       "Text(0.5, 0, 'Classificações')"
      ]
     },
     "execution_count": 151,
     "metadata": {},
     "output_type": "execute_result"
    },
    {
     "data": {
      "image/png": "[encoded data removed]",
      "text/plain": [
       "<Figure size 288x288 with 2 Axes>"
      ]
     },
     "metadata": {
      "needs_background": "light"
     },
     "output_type": "display_data"
    }
   ],
   "source": [
    "plt.matshow(confusion_matrix, cmap='RdBu_r')\n",
    "plt.title('Matriz de confusão')\n",
    "plt.colorbar()\n",
    "plt.ylabel('Classificações correlatas')\n",
    "plt.xlabel('Classificações')\n"
   ]
  },
  {
   "cell_type": "code",
   "execution_count": 153,
   "id": "2f3377ad",
   "metadata": {},
   "outputs": [
    {
     "name": "stdout",
     "output_type": "stream",
     "text": [
      "['david-bowie' 'paul-mccartney' 'laura-pausini' 'evanescence' 'ac-dc']\n"
     ]
    },
    {
     "data": {
      "text/html": [
       "<div>\n",
       "<style scoped>\n",
       "    .dataframe tbody tr th:only-of-type {\n",
       "        vertical-align: middle;\n",
       "    }\n",
       "\n",
       "    .dataframe tbody tr th {\n",
       "        vertical-align: top;\n",
       "    }\n",
       "\n",
       "    .dataframe thead th {\n",
       "        text-align: right;\n",
       "    }\n",
       "</style>\n",
       "<table border=\"1\" class=\"dataframe\">\n",
       "  <thead>\n",
       "    <tr style=\"text-align: right;\">\n",
       "      <th>previsto</th>\n",
       "      <th>0</th>\n",
       "      <th>1</th>\n",
       "      <th>2</th>\n",
       "      <th>3</th>\n",
       "      <th>4</th>\n",
       "      <th>All</th>\n",
       "    </tr>\n",
       "    <tr>\n",
       "      <th>Real</th>\n",
       "      <th></th>\n",
       "      <th></th>\n",
       "      <th></th>\n",
       "      <th></th>\n",
       "      <th></th>\n",
       "      <th></th>\n",
       "    </tr>\n",
       "  </thead>\n",
       "  <tbody>\n",
       "    <tr>\n",
       "      <th>0</th>\n",
       "      <td>93</td>\n",
       "      <td>42</td>\n",
       "      <td>0</td>\n",
       "      <td>2</td>\n",
       "      <td>3</td>\n",
       "      <td>140</td>\n",
       "    </tr>\n",
       "    <tr>\n",
       "      <th>1</th>\n",
       "      <td>26</td>\n",
       "      <td>112</td>\n",
       "      <td>2</td>\n",
       "      <td>0</td>\n",
       "      <td>6</td>\n",
       "      <td>146</td>\n",
       "    </tr>\n",
       "    <tr>\n",
       "      <th>2</th>\n",
       "      <td>5</td>\n",
       "      <td>5</td>\n",
       "      <td>115</td>\n",
       "      <td>0</td>\n",
       "      <td>0</td>\n",
       "      <td>125</td>\n",
       "    </tr>\n",
       "    <tr>\n",
       "      <th>3</th>\n",
       "      <td>6</td>\n",
       "      <td>4</td>\n",
       "      <td>7</td>\n",
       "      <td>27</td>\n",
       "      <td>0</td>\n",
       "      <td>44</td>\n",
       "    </tr>\n",
       "    <tr>\n",
       "      <th>4</th>\n",
       "      <td>7</td>\n",
       "      <td>6</td>\n",
       "      <td>0</td>\n",
       "      <td>0</td>\n",
       "      <td>57</td>\n",
       "      <td>70</td>\n",
       "    </tr>\n",
       "    <tr>\n",
       "      <th>All</th>\n",
       "      <td>137</td>\n",
       "      <td>169</td>\n",
       "      <td>124</td>\n",
       "      <td>29</td>\n",
       "      <td>66</td>\n",
       "      <td>525</td>\n",
       "    </tr>\n",
       "  </tbody>\n",
       "</table>\n",
       "</div>"
      ],
      "text/plain": [
       "previsto    0    1    2   3   4  All\n",
       "Real                                \n",
       "0          93   42    0   2   3  140\n",
       "1          26  112    2   0   6  146\n",
       "2           5    5  115   0   0  125\n",
       "3           6    4    7  27   0   44\n",
       "4           7    6    0   0  57   70\n",
       "All       137  169  124  29  66  525"
      ]
     },
     "execution_count": 153,
     "metadata": {},
     "output_type": "execute_result"
    }
   ],
   "source": [
    "print(nomes)\n",
    "pd.crosstab(Yteste.values, previsao, rownames=['Real'], colnames=['previsto'], margins=True)"
   ]
  },
  {
   "cell_type": "code",
   "execution_count": 155,
   "id": "ba35a9db",
   "metadata": {},
   "outputs": [],
   "source": [
    "novosTrechos = [\n",
    "    \"we used to say we live and let live\",\n",
    "    \"Proyecto de vida en comúnlLo sé todo el abismo que ves\",\n",
    "    \"Inch worm, inch worm. Measuring the marigolds\"\n",
    "]"
   ]
  },
  {
   "cell_type": "code",
   "execution_count": 156,
   "id": "8f74f056",
   "metadata": {},
   "outputs": [
    {
     "name": "stdout",
     "output_type": "stream",
     "text": [
      "Previsões\n",
      "Trecho: we used to say we live and let live\n",
      "Artista previsto: paul-mccartney\n",
      "Trecho: Proyecto de vida en comúnlLo sé todo el abismo que ves\n",
      "Artista previsto: laura-pausini\n",
      "Trecho: Inch worm, inch worm. Measuring the marigolds\n",
      "Artista previsto: paul-mccartney\n"
     ]
    }
   ],
   "source": [
    "#Vetorizando\n",
    "novoVetor = txtvetorizador.transform(novosTrechos)\n",
    "previsao = modelo.predict(novoVetor)\n",
    "print('Previsões')\n",
    "for trecho, artista in zip(novosTrechos, previsao):\n",
    "    print(f'Trecho: {trecho}')\n",
    "    print(f'Artista previsto: {nomes[artista]}')"
   ]
  }
 ],
 "metadata": {
  "kernelspec": {
   "display_name": "Python 3 (ipykernel)",
   "language": "python",
   "name": "python3"
  },
  "language_info": {
   "codemirror_mode": {
    "name": "ipython",
    "version": 3
   },
   "file_extension": ".py",
   "mimetype": "text/x-python",
   "name": "python",
   "nbconvert_exporter": "python",
   "pygments_lexer": "ipython3",
   "version": "3.7.0"
  }
 },
 "nbformat": 4,
 "nbformat_minor": 5
}

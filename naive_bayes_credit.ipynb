{
  "nbformat": 4,
  "nbformat_minor": 0,
  "metadata": {
    "colab": {
      "name": "naive_bayes",
      "provenance": [],
      "mount_file_id": "1mOwVrunY01bs6xMaubMXFr5v3nlAUwpE",
      "authorship_tag": "ABX9TyNaTzf5ycteHQcK8i1fTySn",
      "include_colab_link": true
    },
    "kernelspec": {
      "name": "python3",
      "display_name": "Python 3"
    },
    "language_info": {
      "name": "python"
    }
  },
  "cells": [
    {
      "cell_type": "markdown",
      "metadata": {
        "id": "view-in-github",
        "colab_type": "text"
      },
      "source": [
        "<a href=\"https://colab.research.google.com/github/felipenjonas/lab_bdag/blob/main/naive_bayes_credit.ipynb\" target=\"_parent\"><img src=\"https://colab.research.google.com/assets/colab-badge.svg\" alt=\"Open In Colab\"/></a>"
      ]
    },
    {
      "cell_type": "code",
      "metadata": {
        "colab": {
          "base_uri": "https://localhost:8080/",
          "height": 483
        },
        "id": "6dDR9DdC1dxX",
        "outputId": "bd616aaa-0aaf-4fc7-b600-bd5f7b9a6d7f"
      },
      "source": [
        "import pandas as pd\n",
        "\n",
        "ds_credito = pd.read_csv(\"risco_credito.csv\",sep=\";\")\n",
        "\n",
        "ds_credito"
      ],
      "execution_count": 1,
      "outputs": [
        {
          "output_type": "execute_result",
          "data": {
            "text/html": [
              "<div>\n",
              "<style scoped>\n",
              "    .dataframe tbody tr th:only-of-type {\n",
              "        vertical-align: middle;\n",
              "    }\n",
              "\n",
              "    .dataframe tbody tr th {\n",
              "        vertical-align: top;\n",
              "    }\n",
              "\n",
              "    .dataframe thead th {\n",
              "        text-align: right;\n",
              "    }\n",
              "</style>\n",
              "<table border=\"1\" class=\"dataframe\">\n",
              "  <thead>\n",
              "    <tr style=\"text-align: right;\">\n",
              "      <th></th>\n",
              "      <th>historia</th>\n",
              "      <th>divida</th>\n",
              "      <th>garantias</th>\n",
              "      <th>renda</th>\n",
              "      <th>risco</th>\n",
              "    </tr>\n",
              "  </thead>\n",
              "  <tbody>\n",
              "    <tr>\n",
              "      <th>0</th>\n",
              "      <td>ruim</td>\n",
              "      <td>alta</td>\n",
              "      <td>nenhuma</td>\n",
              "      <td>0_15</td>\n",
              "      <td>alto</td>\n",
              "    </tr>\n",
              "    <tr>\n",
              "      <th>1</th>\n",
              "      <td>desconhecida</td>\n",
              "      <td>alta</td>\n",
              "      <td>nenhuma</td>\n",
              "      <td>15_35</td>\n",
              "      <td>alto</td>\n",
              "    </tr>\n",
              "    <tr>\n",
              "      <th>2</th>\n",
              "      <td>desconhecida</td>\n",
              "      <td>baixa</td>\n",
              "      <td>nenhuma</td>\n",
              "      <td>15_35</td>\n",
              "      <td>moderado</td>\n",
              "    </tr>\n",
              "    <tr>\n",
              "      <th>3</th>\n",
              "      <td>desconhecida</td>\n",
              "      <td>baixa</td>\n",
              "      <td>nenhuma</td>\n",
              "      <td>acima_35</td>\n",
              "      <td>alto</td>\n",
              "    </tr>\n",
              "    <tr>\n",
              "      <th>4</th>\n",
              "      <td>desconhecida</td>\n",
              "      <td>baixa</td>\n",
              "      <td>nenhuma</td>\n",
              "      <td>acima_35</td>\n",
              "      <td>baixo</td>\n",
              "    </tr>\n",
              "    <tr>\n",
              "      <th>5</th>\n",
              "      <td>desconhecida</td>\n",
              "      <td>baixa</td>\n",
              "      <td>adequada</td>\n",
              "      <td>acima_35</td>\n",
              "      <td>baixo</td>\n",
              "    </tr>\n",
              "    <tr>\n",
              "      <th>6</th>\n",
              "      <td>ruim</td>\n",
              "      <td>baixa</td>\n",
              "      <td>nenhuma</td>\n",
              "      <td>0_15</td>\n",
              "      <td>alto</td>\n",
              "    </tr>\n",
              "    <tr>\n",
              "      <th>7</th>\n",
              "      <td>ruim</td>\n",
              "      <td>baixa</td>\n",
              "      <td>adequada</td>\n",
              "      <td>acima_35</td>\n",
              "      <td>moderado</td>\n",
              "    </tr>\n",
              "    <tr>\n",
              "      <th>8</th>\n",
              "      <td>boa</td>\n",
              "      <td>baixa</td>\n",
              "      <td>nenhuma</td>\n",
              "      <td>acima_35</td>\n",
              "      <td>moderado</td>\n",
              "    </tr>\n",
              "    <tr>\n",
              "      <th>9</th>\n",
              "      <td>boa</td>\n",
              "      <td>alta</td>\n",
              "      <td>adequada</td>\n",
              "      <td>acima_35</td>\n",
              "      <td>baixo</td>\n",
              "    </tr>\n",
              "    <tr>\n",
              "      <th>10</th>\n",
              "      <td>boa</td>\n",
              "      <td>alta</td>\n",
              "      <td>nenhuma</td>\n",
              "      <td>0_15</td>\n",
              "      <td>alto</td>\n",
              "    </tr>\n",
              "    <tr>\n",
              "      <th>11</th>\n",
              "      <td>boa</td>\n",
              "      <td>alta</td>\n",
              "      <td>nenhuma</td>\n",
              "      <td>15_35</td>\n",
              "      <td>moderado</td>\n",
              "    </tr>\n",
              "    <tr>\n",
              "      <th>12</th>\n",
              "      <td>boa</td>\n",
              "      <td>alta</td>\n",
              "      <td>nenhuma</td>\n",
              "      <td>acima_35</td>\n",
              "      <td>baixo</td>\n",
              "    </tr>\n",
              "    <tr>\n",
              "      <th>13</th>\n",
              "      <td>ruim</td>\n",
              "      <td>alta</td>\n",
              "      <td>nenhuma</td>\n",
              "      <td>15_35</td>\n",
              "      <td>alto</td>\n",
              "    </tr>\n",
              "  </tbody>\n",
              "</table>\n",
              "</div>"
            ],
            "text/plain": [
              "        historia  divida garantias     renda     risco\n",
              "0           ruim    alta   nenhuma      0_15      alto\n",
              "1   desconhecida    alta   nenhuma     15_35      alto\n",
              "2   desconhecida   baixa   nenhuma     15_35  moderado\n",
              "3   desconhecida   baixa   nenhuma  acima_35      alto\n",
              "4   desconhecida   baixa   nenhuma  acima_35     baixo\n",
              "5   desconhecida   baixa  adequada  acima_35     baixo\n",
              "6           ruim   baixa   nenhuma      0_15      alto\n",
              "7           ruim  baixa   adequada  acima_35  moderado\n",
              "8            boa   baixa   nenhuma  acima_35  moderado\n",
              "9            boa    alta  adequada  acima_35     baixo\n",
              "10           boa    alta   nenhuma      0_15      alto\n",
              "11           boa    alta   nenhuma     15_35  moderado\n",
              "12           boa    alta   nenhuma  acima_35     baixo\n",
              "13          ruim    alta   nenhuma     15_35      alto"
            ]
          },
          "metadata": {
            "tags": []
          },
          "execution_count": 1
        }
      ]
    },
    {
      "cell_type": "code",
      "metadata": {
        "colab": {
          "base_uri": "https://localhost:8080/"
        },
        "id": "a9AeqGER2jpi",
        "outputId": "f46776e4-23a0-4ce2-8cd5-cccae080883d"
      },
      "source": [
        "x_risco_credito = ds_credito.iloc[:,0:4].values\n",
        "print(x_risco_credito)\n",
        "\n",
        "\n",
        "y_risco_credito = ds_credito.iloc[:,4].values\n",
        "print(\"\\n\",y_risco_credito)"
      ],
      "execution_count": 23,
      "outputs": [
        {
          "output_type": "stream",
          "text": [
            "[['ruim' 'alta' 'nenhuma' '0_15']\n",
            " ['desconhecida' 'alta' 'nenhuma' '15_35']\n",
            " ['desconhecida' 'baixa' 'nenhuma' '15_35']\n",
            " ['desconhecida' 'baixa' 'nenhuma' 'acima_35']\n",
            " ['desconhecida' 'baixa' 'nenhuma' 'acima_35']\n",
            " ['desconhecida' 'baixa' 'adequada' 'acima_35']\n",
            " ['ruim' 'baixa' 'nenhuma' '0_15']\n",
            " ['ruim' 'baixa ' 'adequada' 'acima_35']\n",
            " ['boa' 'baixa' 'nenhuma' 'acima_35']\n",
            " ['boa' 'alta' 'adequada' 'acima_35']\n",
            " ['boa' 'alta' 'nenhuma' '0_15']\n",
            " ['boa' 'alta' 'nenhuma' '15_35']\n",
            " ['boa' 'alta' 'nenhuma' 'acima_35']\n",
            " ['ruim' 'alta' 'nenhuma' '15_35']]\n",
            "\n",
            " ['alto' 'alto' 'moderado' 'alto' 'baixo' 'baixo' 'alto' 'moderado'\n",
            " 'moderado' 'baixo' 'alto' 'moderado' 'baixo' 'alto']\n"
          ],
          "name": "stdout"
        }
      ]
    },
    {
      "cell_type": "code",
      "metadata": {
        "id": "HePv9sGe3Dm6"
      },
      "source": [
        "#convertendo atributos categoricos em numericos\n",
        "\n",
        "from sklearn.preprocessing import LabelEncoder\n",
        "\n",
        "label_encoder_historia = LabelEncoder()\n",
        "label_encoder_divida = LabelEncoder()\n",
        "label_encoder_garantia = LabelEncoder()\n",
        "label_encoder_renda = LabelEncoder()\n",
        "\n"
      ],
      "execution_count": 26,
      "outputs": []
    },
    {
      "cell_type": "code",
      "metadata": {
        "colab": {
          "base_uri": "https://localhost:8080/"
        },
        "id": "SCLM15DI4y1d",
        "outputId": "ce91bbc6-152f-439a-ee94-d8c77e24732b"
      },
      "source": [
        "x_risco_credito[:,0] = label_encoder_historia.fit_transform(x_risco_credito[:,0])\n",
        "x_risco_credito[:,1] = label_encoder_divida.fit_transform(x_risco_credito[:,1])\n",
        "x_risco_credito[:,2] = label_encoder_garantia.fit_transform(x_risco_credito[:,2])\n",
        "x_risco_credito[:,3] = label_encoder_renda.fit_transform(x_risco_credito[:,3])\n",
        "\n",
        "x_risco_credito\n"
      ],
      "execution_count": 28,
      "outputs": [
        {
          "output_type": "execute_result",
          "data": {
            "text/plain": [
              "array([[2, 0, 1, 0],\n",
              "       [1, 0, 1, 1],\n",
              "       [1, 1, 1, 1],\n",
              "       [1, 1, 1, 2],\n",
              "       [1, 1, 1, 2],\n",
              "       [1, 1, 0, 2],\n",
              "       [2, 1, 1, 0],\n",
              "       [2, 2, 0, 2],\n",
              "       [0, 1, 1, 2],\n",
              "       [0, 0, 0, 2],\n",
              "       [0, 0, 1, 0],\n",
              "       [0, 0, 1, 1],\n",
              "       [0, 0, 1, 2],\n",
              "       [2, 0, 1, 1]], dtype=object)"
            ]
          },
          "metadata": {
            "tags": []
          },
          "execution_count": 28
        }
      ]
    },
    {
      "cell_type": "code",
      "metadata": {
        "colab": {
          "base_uri": "https://localhost:8080/"
        },
        "id": "-yZoD5qz9Hc6",
        "outputId": "3bc2414d-9c98-404e-9b97-121b0e685920"
      },
      "source": [
        "# Treinar o modelo com o classificador NB através do modelo GaussianNB\n",
        "from sklearn.naive_bayes import GaussianNB\n",
        "\n",
        "naive_risco_credito = GaussianNB()\n",
        "naive_risco_credito.fit(x_risco_credito,y_risco_credito)\n"
      ],
      "execution_count": 29,
      "outputs": [
        {
          "output_type": "execute_result",
          "data": {
            "text/plain": [
              "GaussianNB(priors=None, var_smoothing=1e-09)"
            ]
          },
          "metadata": {
            "tags": []
          },
          "execution_count": 29
        }
      ]
    },
    {
      "cell_type": "code",
      "metadata": {
        "colab": {
          "base_uri": "https://localhost:8080/"
        },
        "id": "jPzielyECpBM",
        "outputId": "e9839599-fbff-4b13-e65c-f8e1da2d558d"
      },
      "source": [
        "# Criando simulações de previsões:\n",
        "\n",
        "#historia 1 = Boa 0, Divida = alta 0, garantia = nenhuma 1, renda >= 35 2\n",
        "#historia 2 = ruim 2, divida = alta 0, garantia = adequada 0, renda \n",
        "\n",
        "previsao = naive_risco_credito.predict([[0,0,1,2], [2,0,0,0]])\n",
        "\n",
        "previsao"
      ],
      "execution_count": 30,
      "outputs": [
        {
          "output_type": "execute_result",
          "data": {
            "text/plain": [
              "array(['baixo', 'moderado'], dtype='<U8')"
            ]
          },
          "metadata": {
            "tags": []
          },
          "execution_count": 30
        }
      ]
    }
  ]
}
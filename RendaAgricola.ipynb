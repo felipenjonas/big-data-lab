{
  "nbformat": 4,
  "nbformat_minor": 0,
  "metadata": {
    "colab": {
      "name": "RendaAgricola.ipynb",
      "provenance": [],
      "authorship_tag": "ABX9TyPT1zdjFUfLwsYvVR39KsFK",
      "include_colab_link": true
    },
    "kernelspec": {
      "name": "python3",
      "display_name": "Python 3"
    },
    "language_info": {
      "name": "python"
    }
  },
  "cells": [
    {
      "cell_type": "markdown",
      "metadata": {
        "id": "view-in-github",
        "colab_type": "text"
      },
      "source": [
        "<a href=\"https://colab.research.google.com/github/felipenjonas/lab_bdag/blob/main/RendaAgricola.ipynb\" target=\"_parent\"><img src=\"https://colab.research.google.com/assets/colab-badge.svg\" alt=\"Open In Colab\"/></a>"
      ]
    },
    {
      "cell_type": "code",
      "metadata": {
        "colab": {
          "base_uri": "https://localhost:8080/",
          "height": 204
        },
        "id": "EnLMu6i5GCAU",
        "outputId": "a317c492-14e1-4d4a-d45a-861c9e58ca06"
      },
      "source": [
        "import pandas as pd\n",
        "url = \"http://archive.ics.uci.edu/ml/machine-learning-databases/adult/adult.data\"\n",
        "ds = pd.read_csv(url)\n",
        "ds.head()\n"
      ],
      "execution_count": 1,
      "outputs": [
        {
          "output_type": "execute_result",
          "data": {
            "text/html": [
              "<div>\n",
              "<style scoped>\n",
              "    .dataframe tbody tr th:only-of-type {\n",
              "        vertical-align: middle;\n",
              "    }\n",
              "\n",
              "    .dataframe tbody tr th {\n",
              "        vertical-align: top;\n",
              "    }\n",
              "\n",
              "    .dataframe thead th {\n",
              "        text-align: right;\n",
              "    }\n",
              "</style>\n",
              "<table border=\"1\" class=\"dataframe\">\n",
              "  <thead>\n",
              "    <tr style=\"text-align: right;\">\n",
              "      <th></th>\n",
              "      <th>39</th>\n",
              "      <th>State-gov</th>\n",
              "      <th>77516</th>\n",
              "      <th>Bachelors</th>\n",
              "      <th>13</th>\n",
              "      <th>Never-married</th>\n",
              "      <th>Adm-clerical</th>\n",
              "      <th>Not-in-family</th>\n",
              "      <th>White</th>\n",
              "      <th>Male</th>\n",
              "      <th>2174</th>\n",
              "      <th>0</th>\n",
              "      <th>40</th>\n",
              "      <th>United-States</th>\n",
              "      <th>&lt;=50K</th>\n",
              "    </tr>\n",
              "  </thead>\n",
              "  <tbody>\n",
              "    <tr>\n",
              "      <th>0</th>\n",
              "      <td>50</td>\n",
              "      <td>Self-emp-not-inc</td>\n",
              "      <td>83311</td>\n",
              "      <td>Bachelors</td>\n",
              "      <td>13</td>\n",
              "      <td>Married-civ-spouse</td>\n",
              "      <td>Exec-managerial</td>\n",
              "      <td>Husband</td>\n",
              "      <td>White</td>\n",
              "      <td>Male</td>\n",
              "      <td>0</td>\n",
              "      <td>0</td>\n",
              "      <td>13</td>\n",
              "      <td>United-States</td>\n",
              "      <td>&lt;=50K</td>\n",
              "    </tr>\n",
              "    <tr>\n",
              "      <th>1</th>\n",
              "      <td>38</td>\n",
              "      <td>Private</td>\n",
              "      <td>215646</td>\n",
              "      <td>HS-grad</td>\n",
              "      <td>9</td>\n",
              "      <td>Divorced</td>\n",
              "      <td>Handlers-cleaners</td>\n",
              "      <td>Not-in-family</td>\n",
              "      <td>White</td>\n",
              "      <td>Male</td>\n",
              "      <td>0</td>\n",
              "      <td>0</td>\n",
              "      <td>40</td>\n",
              "      <td>United-States</td>\n",
              "      <td>&lt;=50K</td>\n",
              "    </tr>\n",
              "    <tr>\n",
              "      <th>2</th>\n",
              "      <td>53</td>\n",
              "      <td>Private</td>\n",
              "      <td>234721</td>\n",
              "      <td>11th</td>\n",
              "      <td>7</td>\n",
              "      <td>Married-civ-spouse</td>\n",
              "      <td>Handlers-cleaners</td>\n",
              "      <td>Husband</td>\n",
              "      <td>Black</td>\n",
              "      <td>Male</td>\n",
              "      <td>0</td>\n",
              "      <td>0</td>\n",
              "      <td>40</td>\n",
              "      <td>United-States</td>\n",
              "      <td>&lt;=50K</td>\n",
              "    </tr>\n",
              "    <tr>\n",
              "      <th>3</th>\n",
              "      <td>28</td>\n",
              "      <td>Private</td>\n",
              "      <td>338409</td>\n",
              "      <td>Bachelors</td>\n",
              "      <td>13</td>\n",
              "      <td>Married-civ-spouse</td>\n",
              "      <td>Prof-specialty</td>\n",
              "      <td>Wife</td>\n",
              "      <td>Black</td>\n",
              "      <td>Female</td>\n",
              "      <td>0</td>\n",
              "      <td>0</td>\n",
              "      <td>40</td>\n",
              "      <td>Cuba</td>\n",
              "      <td>&lt;=50K</td>\n",
              "    </tr>\n",
              "    <tr>\n",
              "      <th>4</th>\n",
              "      <td>37</td>\n",
              "      <td>Private</td>\n",
              "      <td>284582</td>\n",
              "      <td>Masters</td>\n",
              "      <td>14</td>\n",
              "      <td>Married-civ-spouse</td>\n",
              "      <td>Exec-managerial</td>\n",
              "      <td>Wife</td>\n",
              "      <td>White</td>\n",
              "      <td>Female</td>\n",
              "      <td>0</td>\n",
              "      <td>0</td>\n",
              "      <td>40</td>\n",
              "      <td>United-States</td>\n",
              "      <td>&lt;=50K</td>\n",
              "    </tr>\n",
              "  </tbody>\n",
              "</table>\n",
              "</div>"
            ],
            "text/plain": [
              "   39          State-gov   77516   Bachelors  ...   0  40   United-States   <=50K\n",
              "0  50   Self-emp-not-inc   83311   Bachelors  ...   0  13   United-States   <=50K\n",
              "1  38            Private  215646     HS-grad  ...   0  40   United-States   <=50K\n",
              "2  53            Private  234721        11th  ...   0  40   United-States   <=50K\n",
              "3  28            Private  338409   Bachelors  ...   0  40            Cuba   <=50K\n",
              "4  37            Private  284582     Masters  ...   0  40   United-States   <=50K\n",
              "\n",
              "[5 rows x 15 columns]"
            ]
          },
          "metadata": {},
          "execution_count": 1
        }
      ]
    },
    {
      "cell_type": "markdown",
      "metadata": {
        "id": "AB2XYvs4GqSF"
      },
      "source": [
        "Separando o dataset em 2 variáveis, uma chamada \"Previsores\" e a outra \"classe\"\n",
        "\n",
        "Sintaxe do ILOC é [linhas,colunas/range de colunas], neste caso, eu quero todas as linhas, por isso uso \":\" (2 pontos = todos) e depois quero a coluna na posição 0 até posição 14, então \"0:14\"\n",
        "\n",
        "então no final temos: \n",
        " iloc[:,0:14]"
      ]
    },
    {
      "cell_type": "code",
      "metadata": {
        "colab": {
          "base_uri": "https://localhost:8080/"
        },
        "id": "DvVVdWKGG3Qk",
        "outputId": "c66457e0-a8a9-48c0-f228-1662a1ecc049"
      },
      "source": [
        "previsores = ds.iloc[:,0:14].values\n",
        "classe = ds.iloc[:,14].values\n",
        "\n",
        "print(classe)"
      ],
      "execution_count": 2,
      "outputs": [
        {
          "output_type": "stream",
          "text": [
            "[' <=50K' ' <=50K' ' <=50K' ... ' <=50K' ' <=50K' ' >50K']\n"
          ],
          "name": "stdout"
        }
      ]
    },
    {
      "cell_type": "markdown",
      "metadata": {
        "id": "aHqBNKGKI-TM"
      },
      "source": [
        "# Tratamento dos dados\n",
        "Agora, vamos usar o método LabelEncoder da Lib Sklearn.processing para fazer a substituição dos dados das colunas categóricas por números."
      ]
    },
    {
      "cell_type": "code",
      "metadata": {
        "colab": {
          "base_uri": "https://localhost:8080/"
        },
        "id": "RcXl_oPpIUbQ",
        "outputId": "e20a5937-089c-4097-9c05-7ef8e593cf59"
      },
      "source": [
        "from sklearn.preprocessing import LabelEncoder\n",
        "label_previsores = LabelEncoder()\n",
        "\n",
        "# Previsores agora é uma matriz, então podemos continuar com a mesma lógica de linhasxcolunas\n",
        "\n",
        "previsores[:,1] = label_previsores.fit_transform(previsores[:,1])\n",
        "previsores[:,3] = label_previsores.fit_transform(previsores[:,3])\n",
        "previsores[:,5] = label_previsores.fit_transform(previsores[:,5])\n",
        "previsores[:,6] = label_previsores.fit_transform(previsores[:,6])\n",
        "previsores[:,7] = label_previsores.fit_transform(previsores[:,7])\n",
        "previsores[:,8] = label_previsores.fit_transform(previsores[:,8])\n",
        "previsores[:,9] = label_previsores.fit_transform(previsores[:,9])\n",
        "previsores[:,13] = label_previsores.fit_transform(previsores[:,13])\n",
        "\n",
        "label_classe = LabelEncoder()\n",
        "\n",
        "# 1 coluna apenas\n",
        "classe = label_classe.fit_transform(classe)\n",
        "classe"
      ],
      "execution_count": 3,
      "outputs": [
        {
          "output_type": "execute_result",
          "data": {
            "text/plain": [
              "array([0, 0, 0, ..., 0, 0, 1])"
            ]
          },
          "metadata": {},
          "execution_count": 3
        }
      ]
    },
    {
      "cell_type": "markdown",
      "metadata": {
        "id": "SL368fcoOYaQ"
      },
      "source": [
        "# Boas práticas: Escalonamento de dados\n",
        "Standard Scaler"
      ]
    },
    {
      "cell_type": "code",
      "metadata": {
        "colab": {
          "base_uri": "https://localhost:8080/"
        },
        "id": "7jU50Fp5OfYs",
        "outputId": "ded9fbb4-a412-4d57-8caf-cf8289708f71"
      },
      "source": [
        "# Padronizando os dados da variável previsores com o Standard Scale\n",
        "from sklearn.preprocessing import StandardScaler\n",
        "scaler = StandardScaler()\n",
        "previsores = scaler.fit_transform(previsores)\n",
        "\n",
        "previsores \n"
      ],
      "execution_count": 4,
      "outputs": [
        {
          "output_type": "execute_result",
          "data": {
            "text/plain": [
              "array([[ 0.83709708,  1.46388339, -1.0087417 , ..., -0.21666301,\n",
              "        -2.22212013,  0.29157343],\n",
              "       [-0.04264043,  0.09012148,  0.24504633, ..., -0.21666301,\n",
              "        -0.03542999,  0.29157343],\n",
              "       [ 1.05703146,  0.09012148,  0.42576955, ..., -0.21666301,\n",
              "        -0.03542999,  0.29157343],\n",
              "       ...,\n",
              "       [ 1.42358875,  0.09012148, -0.3588108 , ..., -0.21666301,\n",
              "        -0.03542999,  0.29157343],\n",
              "       [-1.21562378,  0.09012148,  0.11092744, ..., -0.21666301,\n",
              "        -1.65520046,  0.29157343],\n",
              "       [ 0.98372   ,  0.77700244,  0.92986178, ..., -0.21666301,\n",
              "        -0.03542999,  0.29157343]])"
            ]
          },
          "metadata": {},
          "execution_count": 4
        }
      ]
    },
    {
      "cell_type": "markdown",
      "metadata": {
        "id": "c9twwHZbRP2G"
      },
      "source": [
        "# Treinamento e teste\n",
        "\n",
        "[Reamostragem conceitos](http://cursos.leg.ufpr.br/ML4all/apoio/reamostragem.html#__m%C3%A9todos_de_reamostragem__)"
      ]
    },
    {
      "cell_type": "code",
      "metadata": {
        "id": "csTTt456ReYr"
      },
      "source": [
        "from sklearn.model_selection import train_test_split\n",
        "# Previsores é o X e a classe é o Y, no contexto de outros exemplos \n",
        "previsores_treinamento, previsores_teste, classe_treinamento, classe_teste = train_test_split(previsores,classe,test_size = 0.5, random_state=0)\n",
        "\n"
      ],
      "execution_count": 5,
      "outputs": []
    },
    {
      "cell_type": "markdown",
      "metadata": {
        "id": "sxDFbniITTHa"
      },
      "source": [
        "# Classificação"
      ]
    },
    {
      "cell_type": "code",
      "metadata": {
        "colab": {
          "base_uri": "https://localhost:8080/"
        },
        "id": "-ZgI0oaxTXFb",
        "outputId": "cf2c89a7-f42e-49fa-93c0-cf842e9a8711"
      },
      "source": [
        "from sklearn.naive_bayes import GaussianNB\n",
        "classificador = GaussianNB()\n",
        "\n",
        "classificador.fit(previsores_treinamento, classe_treinamento)\n",
        "previsores = classificador.predict(previsores_teste)\n",
        "\n",
        "\n",
        "from sklearn.metrics import confusion_matrix, accuracy_score, average_precision_score\n",
        "# Matriz de confusão\n",
        "matriz = confusion_matrix(classe_teste, previsores)\n",
        "print(\"Matriz de confusão: \\n\", matriz)\n",
        "\n",
        "\n",
        "# Acuracia\n",
        "acuracia = accuracy_score(classe_teste,previsores)\n",
        "print(\"\\nAcurácia: \", acuracia)\n",
        "\n",
        "# Recall (Sensibilidade)\n",
        "recall = average_precision_score(classe_teste,previsores)\n",
        "print(\"\\nRecall: \", recall)\n",
        "\n",
        "# Recall manual:\n",
        "recall2 = 5898 / 6193\n",
        "print(\"\\nRecall Manual: \",recall2)\n",
        "\n",
        "# Precisao\n",
        "precisao = 5898 / (5898+1307)\n",
        "print(\"\\nPrecisão: \", precisao)"
      ],
      "execution_count": 6,
      "outputs": [
        {
          "output_type": "stream",
          "text": [
            "Matriz de confusão: \n",
            " [[11781   591]\n",
            " [ 2590  1318]]\n",
            "\n",
            "Acurácia:  0.8046068796068796\n",
            "\n",
            "Recall:  0.39193774300214035\n",
            "\n",
            "Recall Manual:  0.9523655740352011\n",
            "\n",
            "Precisão:  0.8185981956974323\n"
          ],
          "name": "stdout"
        }
      ]
    },
    {
      "cell_type": "markdown",
      "metadata": {
        "id": "UDc6cbA8H05D"
      },
      "source": [
        "# RandomForest\n"
      ]
    },
    {
      "cell_type": "code",
      "metadata": {
        "id": "n1Bjqm4DCbWZ"
      },
      "source": [
        "import numpy as np\n",
        "# APLICANDO Random Forest\n",
        "from sklearn.ensemble import RandomForestRegressor\n",
        "# Ja importamos o train_test_split\n",
        "from sklearn.metrics import mean_squared_error"
      ],
      "execution_count": 7,
      "outputs": []
    },
    {
      "cell_type": "code",
      "metadata": {
        "id": "frx9drvUfnvH",
        "colab": {
          "base_uri": "https://localhost:8080/"
        },
        "outputId": "bdc343f4-16d6-4961-a78b-02ea3f01b52d"
      },
      "source": [
        "# n_jobs=-1 (usa todos os threads da CPU)\n",
        "# arveres = RandomForestRegressor( random_state=0, n_jobs=-1)\n",
        "# Aplicando mais 100 árvores (padrão), o ideal é criar o máximo que o hardware permite para obter cada vez meno overfitting\n",
        "arveres = RandomForestRegressor(n_estimators=1000, random_state=0, n_jobs=-1)\n",
        "\n",
        "arveres.fit(previsores_treinamento,classe_treinamento)\n",
        "\n",
        "previsao1 = arveres.predict(previsores_teste)\n",
        "\n",
        "# Captura de erro:\n",
        "# Este é valor do erro da nossa árvore.\n",
        "np.sqrt(mean_squared_error(classe_teste, previsao1))\n"
      ],
      "execution_count": 12,
      "outputs": [
        {
          "output_type": "execute_result",
          "data": {
            "text/plain": [
              "0.3195516359438612"
            ]
          },
          "metadata": {},
          "execution_count": 12
        }
      ]
    },
    {
      "cell_type": "markdown",
      "metadata": {
        "id": "H5KL1OfPGMVh"
      },
      "source": [
        "Erro Default: 0.32034415998326055 <br>\n",
        "Erro com n_estimators=200: 0.3200829058950066 <br>\n",
        "Erro com n_estimators=500: 0.3196850473263169 <br>\n",
        "Erro com n_estimators=1000: 0.3195516359438612 <br>"
      ]
    },
    {
      "cell_type": "markdown",
      "metadata": {
        "id": "xB3_7lsmDjQY"
      },
      "source": [
        "A diferença entre usar uma árvore e uma RandomForest é justamente a aleatoriedade aplicada na feature e nas linhas/amostras. <br> Será criado uma amostra de reposição (bootstrap sampling ou bagging). Não é uma amostra fiél da realidade, mas sim uma maneira sintética de gerar mais amostras. "
      ]
    },
    {
      "cell_type": "markdown",
      "metadata": {
        "id": "0JY6aTKXEjJN"
      },
      "source": [
        "Além disso, também é usado o conceito de Subspace Sampling. <br> A ideia é usar 2 features aleatorias de cada amostra entre as N features."
      ]
    }
  ]
}